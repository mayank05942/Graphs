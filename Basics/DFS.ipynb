{
 "cells": [
  {
   "cell_type": "code",
   "execution_count": 1,
   "metadata": {},
   "outputs": [
    {
     "name": "stdout",
     "output_type": "stream",
     "text": [
      "0\n",
      "1\n",
      "1\n",
      "2\n",
      "2\n",
      "3\n",
      "3\n",
      "4\n",
      "4\n",
      "0\n"
     ]
    }
   ],
   "source": [
    "V = 5\n",
    "E = 5\n",
    "\n",
    "adj = [[0]*V for _ in range(V)]\n",
    "\n",
    "for _ in range(V):\n",
    "    sv = int(input())\n",
    "    ev = int(input())\n",
    "    adj[sv][ev] = 1\n",
    "    adj[ev][sv] = 1"
   ]
  },
  {
   "cell_type": "code",
   "execution_count": 2,
   "metadata": {},
   "outputs": [
    {
     "data": {
      "text/plain": [
       "[[0, 1, 0, 0, 1],\n",
       " [1, 0, 1, 0, 0],\n",
       " [0, 1, 0, 1, 0],\n",
       " [0, 0, 1, 0, 1],\n",
       " [1, 0, 0, 1, 0]]"
      ]
     },
     "execution_count": 2,
     "metadata": {},
     "output_type": "execute_result"
    }
   ],
   "source": [
    "adj\n"
   ]
  },
  {
   "cell_type": "code",
   "execution_count": 15,
   "metadata": {},
   "outputs": [],
   "source": [
    "# Traversal\n",
    "def dfs(adj,visited,sv):\n",
    "    \n",
    "    print(sv)\n",
    "    visited[sv] = True\n",
    "    for i in range(len(adj)):\n",
    "        if adj[sv][i] == 1 and visited[i] is False:\n",
    "            \n",
    "            dfs(adj,visited,i)\n",
    "        else:\n",
    "            continue\n",
    "\n",
    "\n",
    "def traversal(adj):\n",
    "    visited = [False] * len(adj)\n",
    "    for sv in range(len(adj)):  # we know what len(adj) = 5 -> 0,1,2,3,4\n",
    "        if visited[sv] is False:\n",
    "            dfs(adj,visited,sv)"
   ]
  },
  {
   "cell_type": "code",
   "execution_count": 16,
   "metadata": {},
   "outputs": [
    {
     "name": "stdout",
     "output_type": "stream",
     "text": [
      "0\n",
      "1\n",
      "2\n",
      "3\n",
      "4\n"
     ]
    }
   ],
   "source": [
    "traversal(adj)\n"
   ]
  },
  {
   "cell_type": "code",
   "execution_count": null,
   "metadata": {},
   "outputs": [],
   "source": []
  },
  {
   "cell_type": "code",
   "execution_count": null,
   "metadata": {},
   "outputs": [],
   "source": []
  }
 ],
 "metadata": {
  "kernelspec": {
   "display_name": "Python 3",
   "language": "python",
   "name": "python3"
  },
  "language_info": {
   "codemirror_mode": {
    "name": "ipython",
    "version": 3
   },
   "file_extension": ".py",
   "mimetype": "text/x-python",
   "name": "python",
   "nbconvert_exporter": "python",
   "pygments_lexer": "ipython3",
   "version": "3.7.4"
  }
 },
 "nbformat": 4,
 "nbformat_minor": 2
}
